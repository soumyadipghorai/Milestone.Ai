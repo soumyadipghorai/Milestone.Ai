{
 "cells": [
  {
   "cell_type": "code",
   "execution_count": 75,
   "metadata": {},
   "outputs": [],
   "source": [
    "import os \n",
    "import json\n",
    "from dotenv import main\n",
    "\n",
    "from langchain_groq import ChatGroq\n",
    "from dotenv import main\n",
    "from langchain_core.output_parsers import JsonOutputParser\n",
    "from langchain_core.prompts import PromptTemplate  \n",
    "from langchain.chains import LLMChain\n"
   ]
  },
  {
   "cell_type": "code",
   "execution_count": 76,
   "metadata": {},
   "outputs": [],
   "source": [
    "_ = main.load_dotenv(main.find_dotenv())\n",
    "api_key, llama_model = os.getenv(\"GROQ_API_KEY\"), os.getenv(\"GROQ_LLama\")"
   ]
  },
  {
   "cell_type": "code",
   "execution_count": 77,
   "metadata": {},
   "outputs": [],
   "source": [
    "project_title = \"Predictive Maintenance Using Machine Learning for Industrial Equipment\" \n",
    "project_description = \"\"\"\n",
    "Project Description:\n",
    "\n",
    "In industrial settings, machinery breakdowns can cause significant downtime, resulting in reduced productivity and increased operational costs. Traditional maintenance methods are either reactive, where repairs are made after a failure occurs, or preventive, where regular checks are performed without necessarily detecting a failure beforehand. Both approaches are inefficient and can lead to unnecessary downtime or excessive maintenance costs.\n",
    "\n",
    "This project aims to develop a Predictive Maintenance System using machine learning models that can anticipate equipment failures before they happen. By leveraging historical sensor data, operational logs, and maintenance records, the system will predict when a machine is likely to fail, enabling maintenance teams to address potential issues in advance. This proactive approach minimizes downtime, reduces maintenance costs, and extends the lifespan of equipment.\n",
    "\n",
    "Objectives:\n",
    "1. Data Collection & Preprocessing:\n",
    "   - Gather historical data from industrial sensors (temperature, vibration, pressure, etc.), machine logs, and maintenance records.\n",
    "   - Clean, normalize, and preprocess the data to remove noise, handle missing values, and scale features.\n",
    "   \n",
    "2. Feature Engineering:\n",
    "   - Extract relevant features from raw sensor data, such as peak temperatures, vibration thresholds, and pressure changes, that may indicate potential machine failure.\n",
    "   - Generate time-series features to capture trends and patterns in equipment performance.\n",
    "\n",
    "3. Model Development:\n",
    "   - Implement supervised learning algorithms (e.g., Random Forest, Gradient Boosting, Support Vector Machine) to classify and predict equipment failure.\n",
    "   - Explore unsupervised learning methods (e.g., K-means clustering, Autoencoders) to detect anomalous behavior in equipment that could signal an impending breakdown.\n",
    "   - Use time-series models (e.g., LSTM, ARIMA) to forecast the time-to-failure for each machine.\n",
    "\n",
    "4. Model Evaluation & Optimization:\n",
    "   - Evaluate the models using accuracy, precision, recall, and F1 score to ensure that they correctly predict failures while minimizing false positives.\n",
    "   - Perform hyperparameter tuning and cross-validation to optimize model performance.\n",
    "\n",
    "5. Deployment:\n",
    "   - Build a user-friendly dashboard to visualize the real-time status of equipment, predictions of potential failures, and recommended maintenance actions.\n",
    "   - Integrate the machine learning model with IoT sensors for real-time monitoring and predictive analytics.\n",
    "   - Enable alerts and notifications for the maintenance team when the system predicts a failure is likely to occur.\n",
    "\n",
    "6. Business Impact Analysis:\n",
    "   - Estimate potential cost savings from reducing unplanned downtime and unnecessary maintenance.\n",
    "   - Measure improvements in equipment utilization and productivity as a result of implementing predictive maintenance.\n",
    "\n",
    "Expected Outcomes:\n",
    "- A machine learning model that can accurately predict equipment failures based on sensor data and operational logs.\n",
    "- A real-time monitoring system that integrates with existing industrial infrastructure, providing actionable insights for proactive maintenance.\n",
    "- A reduction in downtime and maintenance costs, leading to more efficient industrial operations.\n",
    "\n",
    "This project demonstrates how machine learning can be applied to enhance industrial maintenance processes, leading to significant operational improvements and cost savings.\n",
    "\"\"\""
   ]
  },
  {
   "cell_type": "code",
   "execution_count": 78,
   "metadata": {},
   "outputs": [],
   "source": [
    "from pydantic import BaseModel, Field\n",
    "from typing import List\n",
    "\n",
    "class ChecklistItem(BaseModel):\n",
    "    task: str = Field(..., description=\"A description of the task in the checklist.\")\n",
    "    time_in_days: int = Field(..., description=\"Time required to complete the task in days.\")\n",
    "\n",
    "class Milestone(BaseModel):\n",
    "    milestone_title: str = Field(..., description=\"The title or name of the milestone.\")\n",
    "    checklist: List[ChecklistItem] = Field(..., description=\"A list of tasks with time estimates under this milestone.\")\n",
    "\n",
    "class ProjectMilestones(BaseModel):\n",
    "    project_title: str = Field(..., description=\"Title of the project.\")\n",
    "    description: str = Field(..., description=\"A short description of the project.\")\n",
    "    milestones: List[Milestone] = Field(..., description=\"A list of milestones with checklists and time estimates.\")\n"
   ]
  },
  {
   "cell_type": "code",
   "execution_count": 79,
   "metadata": {},
   "outputs": [],
   "source": [
    "llm = ChatGroq(temperature=0, model=llama_model, api_key=api_key)\n",
    "\n",
    "parser = JsonOutputParser(pydantic_object=ProjectMilestones)\n",
    "input_prompt = f\"\"\"\n",
    "Generate a structured milestone plan for a project:\n",
    "\n",
    "- Project Title: {project_title}\n",
    "- Description: {project_description}\n",
    "\n",
    "Please provide the output in the following format:\n",
    "{parser.get_format_instructions()}\n",
    "\"\"\"\n"
   ]
  },
  {
   "cell_type": "code",
   "execution_count": 80,
   "metadata": {},
   "outputs": [],
   "source": [
    "structured_llm = llm.with_structured_output(ProjectMilestones, method=\"json_mode\")\n",
    "output = structured_llm.invoke(input_prompt)\n",
    "\n",
    "try:\n",
    "    json_output = json.dumps(output)\n",
    "    validated_output = ProjectMilestones.model_validate_json(json_output)\n",
    "    with open('../milestone/milestone.json', 'w') as file:\n",
    "        json.dump(output, file, indent=4)\n",
    "except UnicodeEncodeError as e:\n",
    "    print(\"Output does not match the expected structure:\", e)\n"
   ]
  },
  {
   "cell_type": "code",
   "execution_count": null,
   "metadata": {},
   "outputs": [],
   "source": []
  }
 ],
 "metadata": {
  "kernelspec": {
   "display_name": "Python 3",
   "language": "python",
   "name": "python3"
  },
  "language_info": {
   "codemirror_mode": {
    "name": "ipython",
    "version": 3
   },
   "file_extension": ".py",
   "mimetype": "text/x-python",
   "name": "python",
   "nbconvert_exporter": "python",
   "pygments_lexer": "ipython3",
   "version": "3.12.0"
  }
 },
 "nbformat": 4,
 "nbformat_minor": 2
}
